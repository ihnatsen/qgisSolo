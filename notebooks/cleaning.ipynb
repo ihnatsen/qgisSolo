{
 "cells": [
  {
   "cell_type": "code",
   "id": "initial_id",
   "metadata": {
    "collapsed": true,
    "ExecuteTime": {
     "end_time": "2025-06-04T11:18:43.712641Z",
     "start_time": "2025-06-04T11:18:43.704765Z"
    }
   },
   "source": [
    "import pandas as pd\n",
    "import os.path "
   ],
   "outputs": [],
   "execution_count": 41
  },
  {
   "metadata": {
    "ExecuteTime": {
     "end_time": "2025-06-04T11:18:55.719117Z",
     "start_time": "2025-06-04T11:18:55.714693Z"
    }
   },
   "cell_type": "code",
   "source": [
    "def get_path(name):\n",
    "    return os.path.join(r\"D:\\museumProject\\clean_and_analyze\\scientificProject\\qgis\", name)"
   ],
   "id": "43c2ed19b0971c67",
   "outputs": [],
   "execution_count": 43
  },
  {
   "metadata": {
    "ExecuteTime": {
     "end_time": "2025-06-04T11:18:57.823008Z",
     "start_time": "2025-06-04T11:18:57.805910Z"
    }
   },
   "cell_type": "code",
   "source": [
    "caves = pd.read_csv(get_path('caves.csv'), sep=';')\n",
    "caves = caves[['WKT', 'name']]\n",
    "caves = caves[~caves['name'].isna()]\n",
    "caves.index.name = 'caves_id'\n",
    "caves.to_csv(r\"D:\\museumProject\\clean_and_analyze\\scientificProject\\qgis\\caves.csv\", sep=';', index=True)"
   ],
   "id": "64a2613a78778dc9",
   "outputs": [],
   "execution_count": 44
  },
  {
   "metadata": {},
   "cell_type": "code",
   "source": "path = pd.read_csv(get_path('path.csv'), sep=';')",
   "id": "97521fcc9586c6a5",
   "outputs": [],
   "execution_count": null
  },
  {
   "metadata": {
    "ExecuteTime": {
     "end_time": "2025-06-04T11:22:41.809063Z",
     "start_time": "2025-06-04T11:22:41.788063Z"
    }
   },
   "cell_type": "code",
   "source": [
    "pl_boundary = pd.read_csv(get_path('pl_boundery.csv'), sep=';')\n",
    "pl_boundary[['WKT', 'name']]"
   ],
   "id": "4a1d5126c4fc732c",
   "outputs": [
    {
     "data": {
      "text/plain": [
       "                                                 WKT                      name\n",
       "0  MULTIPOLYGON (((435817.466272199 5461538.23750...  Tatrzański Park Narodowy"
      ],
      "text/html": [
       "<div>\n",
       "<style scoped>\n",
       "    .dataframe tbody tr th:only-of-type {\n",
       "        vertical-align: middle;\n",
       "    }\n",
       "\n",
       "    .dataframe tbody tr th {\n",
       "        vertical-align: top;\n",
       "    }\n",
       "\n",
       "    .dataframe thead th {\n",
       "        text-align: right;\n",
       "    }\n",
       "</style>\n",
       "<table border=\"1\" class=\"dataframe\">\n",
       "  <thead>\n",
       "    <tr style=\"text-align: right;\">\n",
       "      <th></th>\n",
       "      <th>WKT</th>\n",
       "      <th>name</th>\n",
       "    </tr>\n",
       "  </thead>\n",
       "  <tbody>\n",
       "    <tr>\n",
       "      <th>0</th>\n",
       "      <td>MULTIPOLYGON (((435817.466272199 5461538.23750...</td>\n",
       "      <td>Tatrzański Park Narodowy</td>\n",
       "    </tr>\n",
       "  </tbody>\n",
       "</table>\n",
       "</div>"
      ]
     },
     "execution_count": 52,
     "metadata": {},
     "output_type": "execute_result"
    }
   ],
   "execution_count": 52
  }
 ],
 "metadata": {
  "kernelspec": {
   "display_name": "Python 3",
   "language": "python",
   "name": "python3"
  },
  "language_info": {
   "codemirror_mode": {
    "name": "ipython",
    "version": 2
   },
   "file_extension": ".py",
   "mimetype": "text/x-python",
   "name": "python",
   "nbconvert_exporter": "python",
   "pygments_lexer": "ipython2",
   "version": "2.7.6"
  }
 },
 "nbformat": 4,
 "nbformat_minor": 5
}
