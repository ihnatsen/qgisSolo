{
 "cells": [
  {
   "cell_type": "code",
   "id": "initial_id",
   "metadata": {
    "collapsed": true,
    "ExecuteTime": {
     "end_time": "2025-05-30T07:53:39.217630Z",
     "start_time": "2025-05-30T07:53:39.212717Z"
    }
   },
   "source": [
    "import pandas as pd\n",
    "import numpy as np"
   ],
   "outputs": [],
   "execution_count": 13
  },
  {
   "metadata": {
    "ExecuteTime": {
     "end_time": "2025-05-30T07:38:29.834577Z",
     "start_time": "2025-05-30T07:38:29.818763Z"
    }
   },
   "cell_type": "code",
   "source": [
    "# \n",
    "# cleaning of castle\n",
    "#\n",
    "\n",
    "castle = pd.read_csv(r\"D:\\museumProject\\clean_and_analyze\\scientificProject\\qgis\\castle.csv\", sep=';')\n",
    "castle.count()"
   ],
   "id": "36cefe6b3d9e3b36",
   "outputs": [
    {
     "data": {
      "text/plain": [
       "id      26\n",
       "WKT     26\n",
       "name    26\n",
       "dtype: int64"
      ]
     },
     "execution_count": 7,
     "metadata": {},
     "output_type": "execute_result"
    }
   ],
   "execution_count": 7
  },
  {
   "metadata": {
    "ExecuteTime": {
     "end_time": "2025-05-30T08:53:30.891669Z",
     "start_time": "2025-05-30T08:53:30.877572Z"
    }
   },
   "cell_type": "code",
   "source": [
    "castle = castle[['WKT', 'name']]\n",
    "castle.index.name = 'id'\n",
    "names = castle['name']\n",
    "castle = castle[~names.isna()]\n",
    "castle.to_csv(r'D:\\museumProject\\clean_and_analyze\\scientificProject\\qgis\\castle.csv', sep=';')"
   ],
   "id": "f6e66bf1a3c5ee91",
   "outputs": [],
   "execution_count": 79
  },
  {
   "metadata": {
    "ExecuteTime": {
     "end_time": "2025-05-30T08:25:47.440002Z",
     "start_time": "2025-05-30T08:25:47.416537Z"
    }
   },
   "cell_type": "code",
   "source": "museum = pd.read_csv(r'D:\\museumProject\\clean_and_analyze\\scientificProject\\qgis\\museum.csv', sep=';')",
   "id": "655d194bca06eeed",
   "outputs": [
    {
     "data": {
      "text/plain": [
       "     id                                        WKT  \\\n",
       "0     0  POINT (500830.797391137 5787526.44130426)   \n",
       "1     1  POINT (500189.097681374 5788213.57157374)   \n",
       "2     2   POINT (500581.62558866 5789014.87430336)   \n",
       "3     3  POINT (500777.519096203 5788841.55299175)   \n",
       "4     4  POINT (500845.576999823 5788869.63800154)   \n",
       "..  ...                                        ...   \n",
       "85  110   POINT (500522.45195472 5787217.85450732)   \n",
       "86  111  POINT (499908.269652361 5786669.02133219)   \n",
       "87  112   POINT (502233.28934725 5789401.71580783)   \n",
       "88  113  POINT (501636.679906763 5785576.95158953)   \n",
       "89  114  POINT (496637.799953257 5784712.56542154)   \n",
       "\n",
       "                                           name  \n",
       "0                          Muzeum Etnograficzne  \n",
       "1                 Żydowski Instytut Historyczny  \n",
       "2               Muzeum Marii Skłodowskiej-Curie  \n",
       "3                               Muzeum Warszawy  \n",
       "4                             Muzeum Literatury  \n",
       "..                                          ...  \n",
       "85                Centralny Przystanek Historia  \n",
       "86                      Mi Polin Mezuzah Center  \n",
       "87  Muzeum Warszawskiej Metropolii Prawosławnej  \n",
       "88                                Cele Bezpieki  \n",
       "89                              Be Happy Museum  \n",
       "\n",
       "[90 rows x 3 columns]"
      ],
      "text/html": [
       "<div>\n",
       "<style scoped>\n",
       "    .dataframe tbody tr th:only-of-type {\n",
       "        vertical-align: middle;\n",
       "    }\n",
       "\n",
       "    .dataframe tbody tr th {\n",
       "        vertical-align: top;\n",
       "    }\n",
       "\n",
       "    .dataframe thead th {\n",
       "        text-align: right;\n",
       "    }\n",
       "</style>\n",
       "<table border=\"1\" class=\"dataframe\">\n",
       "  <thead>\n",
       "    <tr style=\"text-align: right;\">\n",
       "      <th></th>\n",
       "      <th>id</th>\n",
       "      <th>WKT</th>\n",
       "      <th>name</th>\n",
       "    </tr>\n",
       "  </thead>\n",
       "  <tbody>\n",
       "    <tr>\n",
       "      <th>0</th>\n",
       "      <td>0</td>\n",
       "      <td>POINT (500830.797391137 5787526.44130426)</td>\n",
       "      <td>Muzeum Etnograficzne</td>\n",
       "    </tr>\n",
       "    <tr>\n",
       "      <th>1</th>\n",
       "      <td>1</td>\n",
       "      <td>POINT (500189.097681374 5788213.57157374)</td>\n",
       "      <td>Żydowski Instytut Historyczny</td>\n",
       "    </tr>\n",
       "    <tr>\n",
       "      <th>2</th>\n",
       "      <td>2</td>\n",
       "      <td>POINT (500581.62558866 5789014.87430336)</td>\n",
       "      <td>Muzeum Marii Skłodowskiej-Curie</td>\n",
       "    </tr>\n",
       "    <tr>\n",
       "      <th>3</th>\n",
       "      <td>3</td>\n",
       "      <td>POINT (500777.519096203 5788841.55299175)</td>\n",
       "      <td>Muzeum Warszawy</td>\n",
       "    </tr>\n",
       "    <tr>\n",
       "      <th>4</th>\n",
       "      <td>4</td>\n",
       "      <td>POINT (500845.576999823 5788869.63800154)</td>\n",
       "      <td>Muzeum Literatury</td>\n",
       "    </tr>\n",
       "    <tr>\n",
       "      <th>...</th>\n",
       "      <td>...</td>\n",
       "      <td>...</td>\n",
       "      <td>...</td>\n",
       "    </tr>\n",
       "    <tr>\n",
       "      <th>85</th>\n",
       "      <td>110</td>\n",
       "      <td>POINT (500522.45195472 5787217.85450732)</td>\n",
       "      <td>Centralny Przystanek Historia</td>\n",
       "    </tr>\n",
       "    <tr>\n",
       "      <th>86</th>\n",
       "      <td>111</td>\n",
       "      <td>POINT (499908.269652361 5786669.02133219)</td>\n",
       "      <td>Mi Polin Mezuzah Center</td>\n",
       "    </tr>\n",
       "    <tr>\n",
       "      <th>87</th>\n",
       "      <td>112</td>\n",
       "      <td>POINT (502233.28934725 5789401.71580783)</td>\n",
       "      <td>Muzeum Warszawskiej Metropolii Prawosławnej</td>\n",
       "    </tr>\n",
       "    <tr>\n",
       "      <th>88</th>\n",
       "      <td>113</td>\n",
       "      <td>POINT (501636.679906763 5785576.95158953)</td>\n",
       "      <td>Cele Bezpieki</td>\n",
       "    </tr>\n",
       "    <tr>\n",
       "      <th>89</th>\n",
       "      <td>114</td>\n",
       "      <td>POINT (496637.799953257 5784712.56542154)</td>\n",
       "      <td>Be Happy Museum</td>\n",
       "    </tr>\n",
       "  </tbody>\n",
       "</table>\n",
       "<p>90 rows × 3 columns</p>\n",
       "</div>"
      ]
     },
     "execution_count": 39,
     "metadata": {},
     "output_type": "execute_result"
    }
   ],
   "execution_count": 39
  },
  {
   "metadata": {},
   "cell_type": "code",
   "outputs": [],
   "execution_count": null,
   "source": "",
   "id": "ae10dae903fa6b9c"
  },
  {
   "metadata": {
    "ExecuteTime": {
     "end_time": "2025-05-30T08:10:03.753098Z",
     "start_time": "2025-05-30T08:10:03.742993Z"
    }
   },
   "cell_type": "code",
   "source": [
    "#\n",
    "# random score and random coast of ticket\n",
    "#\n",
    "score = np.random.uniform(4.4, 4.8, size=museum.shape[0]).round(1)\n",
    "ticket_coast = np.random.randint(20, 40, size=museum.shape[0]).round()"
   ],
   "id": "e00a8d9ca3ca6a04",
   "outputs": [],
   "execution_count": 28
  },
  {
   "metadata": {
    "ExecuteTime": {
     "end_time": "2025-05-30T08:28:44.906979Z",
     "start_time": "2025-05-30T08:28:44.895904Z"
    }
   },
   "cell_type": "code",
   "source": [
    "with open('description.txt','r', encoding='UTF-8') as file:\n",
    "    description = [line.split(';')[1][:-1] for line in file]\n",
    "len(description)\n",
    "description.append('Historia i rozwój kolei miejskiej')"
   ],
   "id": "4d0c6f2746e214e2",
   "outputs": [],
   "execution_count": 48
  },
  {
   "metadata": {
    "ExecuteTime": {
     "end_time": "2025-05-30T08:27:41.721999Z",
     "start_time": "2025-05-30T08:27:41.705432Z"
    }
   },
   "cell_type": "code",
   "source": "",
   "id": "255963affe8526ac",
   "outputs": [
    {
     "data": {
      "text/plain": [
       "0     False\n",
       "1     False\n",
       "2     False\n",
       "3     False\n",
       "4     False\n",
       "      ...  \n",
       "85    False\n",
       "86    False\n",
       "87    False\n",
       "88    False\n",
       "89    False\n",
       "Name: name, Length: 90, dtype: bool"
      ]
     },
     "execution_count": 43,
     "metadata": {},
     "output_type": "execute_result"
    }
   ],
   "execution_count": 43
  },
  {
   "metadata": {
    "ExecuteTime": {
     "end_time": "2025-05-30T08:28:48.931787Z",
     "start_time": "2025-05-30T08:28:48.924291Z"
    }
   },
   "cell_type": "code",
   "source": [
    "museum['score'] = score\n",
    "museum['ticket_coast'] = ticket_coast\n",
    "museum['description'] = description"
   ],
   "id": "191c51c6dc4b4cc0",
   "outputs": [],
   "execution_count": 50
  },
  {
   "metadata": {
    "ExecuteTime": {
     "end_time": "2025-05-30T08:40:40.701697Z",
     "start_time": "2025-05-30T08:40:40.682305Z"
    }
   },
   "cell_type": "code",
   "source": [
    "# a >= 90, 50 < b < 90, c <= 50 \n",
    "_90qnt = np.quantile(museum['score'], 0.9)\n",
    "_50qnt = np.quantile(museum['score'], 0.5)\n",
    "def get_rating(the_score):\n",
    "    if the_score >= _90qnt:\n",
    "        return 'A'\n",
    "    elif the_score > _50qnt:\n",
    "        return 'B'\n",
    "    else:\n",
    "        return 'C'"
   ],
   "id": "85784a2a3b8c4074",
   "outputs": [],
   "execution_count": 55
  },
  {
   "metadata": {
    "ExecuteTime": {
     "end_time": "2025-05-30T08:41:50.739859Z",
     "start_time": "2025-05-30T08:41:50.700881Z"
    }
   },
   "cell_type": "code",
   "source": [
    "rating = museum['score'].apply(get_rating)\n",
    "rating.name = 'rating'"
   ],
   "id": "62ddabff0b297e2",
   "outputs": [],
   "execution_count": 61
  },
  {
   "metadata": {
    "ExecuteTime": {
     "end_time": "2025-05-30T08:50:30.512391Z",
     "start_time": "2025-05-30T08:50:30.500860Z"
    }
   },
   "cell_type": "code",
   "source": [
    "ticket_coast_mean = museum['ticket_coast'].mean().round()\n",
    "isAbove = museum['ticket_coast'] > ticket_coast_mean\n",
    "museum['is above Average '] = isAbove"
   ],
   "id": "cb338a6f86127af8",
   "outputs": [
    {
     "data": {
      "text/plain": [
       "np.int64(40)"
      ]
     },
     "execution_count": 74,
     "metadata": {},
     "output_type": "execute_result"
    }
   ],
   "execution_count": 74
  },
  {
   "metadata": {
    "ExecuteTime": {
     "end_time": "2025-05-30T08:53:11.694089Z",
     "start_time": "2025-05-30T08:53:11.683936Z"
    }
   },
   "cell_type": "code",
   "source": "museum.to_csv(r'D:\\museumProject\\clean_and_analyze\\scientificProject\\qgis\\museum.csv', sep=';', index=False)",
   "id": "c907eb1ede1ed532",
   "outputs": [],
   "execution_count": 78
  },
  {
   "metadata": {
    "ExecuteTime": {
     "end_time": "2025-05-30T10:42:31.645750Z",
     "start_time": "2025-05-30T10:42:31.612377Z"
    }
   },
   "cell_type": "code",
   "source": [
    "district = pd.read_csv(r\"D:\\museumProject\\clean_and_analyze\\scientificProject\\qgis\\district.csv\", sep=';', encoding='UTF-8')\n",
    "district.index.name = 'id'\n",
    "district = district[['WKT', 'name']]\n",
    "amount = pd.read_csv(r\"D:\\museumProject\\clean_and_analyze\\scientificProject\\qgis\\temp.csv\")\n",
    "amount.set_index('district_id', inplace=True)\n",
    "district['amount_of_museum'] = amount\n",
    "district.to_csv(r\"D:\\museumProject\\clean_and_analyze\\scientificProject\\qgis\\district.csv\", sep=';', index=True)"
   ],
   "id": "e957ec1e7597aaca",
   "outputs": [],
   "execution_count": 119
  }
 ],
 "metadata": {
  "kernelspec": {
   "display_name": "Python 3",
   "language": "python",
   "name": "python3"
  },
  "language_info": {
   "codemirror_mode": {
    "name": "ipython",
    "version": 2
   },
   "file_extension": ".py",
   "mimetype": "text/x-python",
   "name": "python",
   "nbconvert_exporter": "python",
   "pygments_lexer": "ipython2",
   "version": "2.7.6"
  }
 },
 "nbformat": 4,
 "nbformat_minor": 5
}
